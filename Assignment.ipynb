{
    "cells": [
        {
            "metadata": {
                "collapsed": true
            },
            "cell_type": "markdown",
            "source": "# My Jupyter Notebook on IBM Watson Studio"
        },
        {
            "metadata": {},
            "cell_type": "markdown",
            "source": "**Ahmed Raafat**\n\nSenior Data Analyst"
        },
        {
            "metadata": {},
            "cell_type": "markdown",
            "source": "*I've been working with data for over two years but with the old fashioned way using spreadsheets, and this is become to easy for me. Now I'm seeking for something more changeable as well as exciting that's why I'm interested with data science.*"
        },
        {
            "metadata": {},
            "cell_type": "markdown",
            "source": "### My code will display A Hello Statement"
        },
        {
            "metadata": {},
            "cell_type": "code",
            "source": "print(\"Hi There! Nice to meet you :)\")",
            "execution_count": 3,
            "outputs": [
                {
                    "output_type": "stream",
                    "text": "Hi There! Nice to meet you :)\n",
                    "name": "stdout"
                }
            ]
        },
        {
            "metadata": {},
            "cell_type": "markdown",
            "source": "<dl>\n  <dt><b>Lists</b></dt>\n    <dd>Is something people use sometimes to reacord peices of information like <i>groceries</i>.\n        <ol>\n          <li>Coffee</li>\n          <li>Tea</li>\n          <li>Milk</li>\n        </ol>  \n    </dd>\n    \n  <dt><b>Link</b></dt>\n  <dd><a href=https://www.google.com>Google Website</a></dd>\n    \n  <dt><br><b>Blockquotes</b></dt>\n    <dd>This is a very long line that will still be quoted properly when it wraps. Oh boy let's keep writing to make sure this is long enough to actually wrap for everyone. Oh, you can *put* **Markdown** into a blockquote.</dd>\n</dl>"
        },
        {
            "metadata": {},
            "cell_type": "code",
            "source": "",
            "execution_count": null,
            "outputs": []
        }
    ],
    "metadata": {
        "kernelspec": {
            "name": "python3",
            "display_name": "Python 3.6",
            "language": "python"
        },
        "language_info": {
            "name": "python",
            "version": "3.6.9",
            "mimetype": "text/x-python",
            "codemirror_mode": {
                "name": "ipython",
                "version": 3
            },
            "pygments_lexer": "ipython3",
            "nbconvert_exporter": "python",
            "file_extension": ".py"
        }
    },
    "nbformat": 4,
    "nbformat_minor": 1
}